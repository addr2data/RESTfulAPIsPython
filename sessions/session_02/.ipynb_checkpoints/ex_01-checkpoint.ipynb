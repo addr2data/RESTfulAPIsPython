{
 "cells": [
  {
   "cell_type": "markdown",
   "id": "superior-durham",
   "metadata": {},
   "source": [
    "**Import the required Python modules**"
   ]
  },
  {
   "cell_type": "code",
   "execution_count": null,
   "id": "stone-collar",
   "metadata": {},
   "outputs": [],
   "source": [
    "import urllib3\n",
    "import requests"
   ]
  },
  {
   "cell_type": "markdown",
   "id": "recreational-extraction",
   "metadata": {},
   "source": [
    "**Disable the urlib3 warning that results from the self-signed cert**"
   ]
  },
  {
   "cell_type": "code",
   "execution_count": null,
   "id": "piano-implement",
   "metadata": {},
   "outputs": [],
   "source": [
    "urllib3.disable_warnings(urllib3.exceptions.InsecureRequestWarning)"
   ]
  },
  {
   "cell_type": "markdown",
   "id": "downtown-croatia",
   "metadata": {},
   "source": [
    "**Review the requirements for login to this API http://127.0.0.1:3000/swagger**"
   ]
  },
  {
   "cell_type": "markdown",
   "id": "played-effect",
   "metadata": {},
   "source": [
    "**Create a 'x-www-form-urlencoded' string**"
   ]
  },
  {
   "cell_type": "code",
   "execution_count": null,
   "id": "pressing-progress",
   "metadata": {},
   "outputs": [],
   "source": [
    "username = \"initialdeploy\"\n",
    "password = \"initialdeploy\"\n",
    "\n",
    "login_data = \"grantType=password&username={}&password={}\".format(username, password)"
   ]
  },
  {
   "cell_type": "code",
   "execution_count": null,
   "id": "decent-input",
   "metadata": {},
   "outputs": [],
   "source": [
    "print(login_data)"
   ]
  },
  {
   "cell_type": "markdown",
   "id": "advisory-coach",
   "metadata": {},
   "source": [
    "**Define some required parameters**"
   ]
  },
  {
   "cell_type": "code",
   "execution_count": null,
   "id": "virtual-farming",
   "metadata": {},
   "outputs": [],
   "source": [
    "protocol = \"http\"\n",
    "address = \"127.0.0.1:3000\"\n",
    "base_url = \"v1\""
   ]
  },
  {
   "cell_type": "markdown",
   "id": "further-border",
   "metadata": {},
   "source": [
    "**Define a custom error class**"
   ]
  },
  {
   "cell_type": "code",
   "execution_count": null,
   "id": "dense-profession",
   "metadata": {},
   "outputs": [],
   "source": [
    "class InterfaceError(Exception):\n",
    "    \"\"\"Exception raised when an interface error occurs.\"\"\"\n",
    "\n",
    "    def __init__(self, message):\n",
    "        \"\"\"Class init.\"\"\"\n",
    "        err_msg = 'error:  ' + message\n",
    "        super(InterfaceError, self).__init__(err_msg)\n"
   ]
  },
  {
   "cell_type": "markdown",
   "id": "falling-caution",
   "metadata": {},
   "source": [
    "**Define 'read' and 'write' headers**"
   ]
  },
  {
   "cell_type": "code",
   "execution_count": null,
   "id": "proved-former",
   "metadata": {},
   "outputs": [],
   "source": [
    "read_hdr = {\"Authorization\": \"\", \"Accept\": \"application/json\"}\n",
    "write_hdr = {\"Authorization\": \"\", \"Accept\": \"application/json\", \"Content-Type\": \"application/json\"}"
   ]
  },
  {
   "cell_type": "markdown",
   "id": "still-speaker",
   "metadata": {},
   "source": [
    "**Create a login function**"
   ]
  },
  {
   "cell_type": "code",
   "execution_count": null,
   "id": "dominant-script",
   "metadata": {},
   "outputs": [],
   "source": [
    "def login():\n",
    "    try:\n",
    "        url = \"{}://{}/{}/login\".format(protocol, address, base_url)\n",
    "        login_hdr = {\"Content-type\": \"application/x-www-form-urlencoded\", \"Accept\": \"application/json\"}\n",
    "        response = requests.post(url, headers=login_hdr, data=login_data, verify=False)\n",
    "        try:\n",
    "            response.raise_for_status()\n",
    "            try:\n",
    "                read_hdr['Authorization'] = \"Bearer {}\".format(response.json()['accessToken'])\n",
    "                write_hdr['Authorization'] = \"Bearer {}\".format(response.json()['accessToken'])\n",
    "            except KeyError:\n",
    "                raise InterfaceError(\"'BearerToken' and/or 'RefreshToken' not found\")\n",
    "        except requests.HTTPError:\n",
    "            read_hdr['Authorization'] = \"\"\n",
    "            write_hdr['Authorization'] = \"\"\n",
    "            raise InterfaceError(\"Login failed\")\n",
    "    except requests.exceptions.RequestException as errmsg:\n",
    "        raise InterfaceError(\"Login failed\")\n"
   ]
  },
  {
   "cell_type": "markdown",
   "id": "innovative-franklin",
   "metadata": {},
   "source": [
    "**Import 'simplejson'**"
   ]
  },
  {
   "cell_type": "code",
   "execution_count": null,
   "id": "three-mexican",
   "metadata": {},
   "outputs": [],
   "source": [
    "import simplejson as json"
   ]
  },
  {
   "cell_type": "markdown",
   "id": "given-colony",
   "metadata": {},
   "source": [
    "**Call the login function**"
   ]
  },
  {
   "cell_type": "code",
   "execution_count": null,
   "id": "alone-reconstruction",
   "metadata": {},
   "outputs": [],
   "source": [
    "login()"
   ]
  },
  {
   "cell_type": "markdown",
   "id": "animated-question",
   "metadata": {},
   "source": [
    "**Print the updated 'read_hdr'**"
   ]
  },
  {
   "cell_type": "code",
   "execution_count": null,
   "id": "danish-translator",
   "metadata": {},
   "outputs": [],
   "source": [
    "print(json.dumps(read_hdr, indent=4, sort_keys=False))"
   ]
  },
  {
   "cell_type": "markdown",
   "id": "adjusted-redhead",
   "metadata": {},
   "source": [
    "**Print the updated 'write_hdr'**"
   ]
  },
  {
   "cell_type": "code",
   "execution_count": null,
   "id": "systematic-stuff",
   "metadata": {
    "scrolled": true
   },
   "outputs": [],
   "source": [
    "print(json.dumps(write_hdr, indent=4, sort_keys=False))"
   ]
  },
  {
   "cell_type": "markdown",
   "id": "loved-archives",
   "metadata": {},
   "source": [
    "**Create a login failure**"
   ]
  },
  {
   "cell_type": "code",
   "execution_count": null,
   "id": "defined-employee",
   "metadata": {},
   "outputs": [],
   "source": [
    "login_data = \"grantType=password&username={}&password={}\".format(username, \"badpassword\")\n",
    "\n",
    "try:\n",
    "    login()\n",
    "except InterfaceError as err:\n",
    "    print(err)"
   ]
  },
  {
   "cell_type": "code",
   "execution_count": null,
   "id": "innovative-venue",
   "metadata": {},
   "outputs": [],
   "source": [
    "print(json.dumps(write_hdr, indent=4, sort_keys=False))"
   ]
  },
  {
   "cell_type": "markdown",
   "id": "dried-mission",
   "metadata": {},
   "source": [
    "**Log in again with the correct password**"
   ]
  },
  {
   "cell_type": "code",
   "execution_count": null,
   "id": "modern-phoenix",
   "metadata": {},
   "outputs": [],
   "source": [
    "login_data = \"grantType=password&username={}&password={}\".format(username, password)\n",
    "\n",
    "try:\n",
    "    login()\n",
    "except InterfaceError as err:\n",
    "    print(err)"
   ]
  },
  {
   "cell_type": "markdown",
   "id": "fleet-praise",
   "metadata": {},
   "source": [
    "**Create a get function**"
   ]
  },
  {
   "cell_type": "code",
   "execution_count": null,
   "id": "therapeutic-bumper",
   "metadata": {},
   "outputs": [],
   "source": [
    "def get(urlext):\n",
    "    url = \"{}://{}/{}/{}\".format(protocol, address, base_url, urlext)\n",
    "    try:\n",
    "        response = requests.get(url, headers=read_hdr, verify=False)\n",
    "        try:\n",
    "            response.raise_for_status()\n",
    "            return response.json()\n",
    "        except requests.HTTPError:\n",
    "            raise InterfaceError(\"requests.HTTPError ({})\".format(str(response.status_code)))\n",
    "    except requests.exceptions.RequestException:\n",
    "        raise InterfaceError(\"requests.exceptions.RequestException\")"
   ]
  },
  {
   "cell_type": "markdown",
   "id": "entire-parker",
   "metadata": {},
   "source": [
    "**Get a list of users**"
   ]
  },
  {
   "cell_type": "code",
   "execution_count": null,
   "id": "going-masters",
   "metadata": {},
   "outputs": [],
   "source": [
    "try:\n",
    "    results = get(\"users\")\n",
    "    print(json.dumps(results, indent=4, sort_keys=False))\n",
    "except InterfaceError as err:\n",
    "    print(err)"
   ]
  },
  {
   "cell_type": "markdown",
   "id": "sixth-compromise",
   "metadata": {},
   "source": [
    "**Create a post function**"
   ]
  },
  {
   "cell_type": "code",
   "execution_count": null,
   "id": "outdoor-payment",
   "metadata": {},
   "outputs": [],
   "source": [
    "def post(urlext, data):\n",
    "    url = \"{}://{}/{}/{}\".format(protocol, address, base_url, urlext)\n",
    "    try:\n",
    "        response = requests.post(url, headers=write_hdr, data=data, verify=False)\n",
    "        try:\n",
    "            response.raise_for_status()\n",
    "            return response.json()\n",
    "        except requests.HTTPError:\n",
    "            raise InterfaceError(\"requests.HTTPError ({})\".format(str(response.status_code)))\n",
    "    except requests.exceptions.RequestException:\n",
    "            raise InterfaceError(\"requests.exceptions.RequestException\")"
   ]
  },
  {
   "cell_type": "markdown",
   "id": "suffering-storm",
   "metadata": {},
   "source": [
    "**Write to 'select-assets'**"
   ]
  },
  {
   "cell_type": "code",
   "execution_count": null,
   "id": "adaptive-exhibition",
   "metadata": {},
   "outputs": [],
   "source": [
    "login()\n",
    "try:\n",
    "    results = post(\"logical/clusters/select-assets\", json.dumps({}))\n",
    "except InterfaceError as err:\n",
    "    print(err)"
   ]
  },
  {
   "cell_type": "code",
   "execution_count": null,
   "id": "cardiac-popularity",
   "metadata": {},
   "outputs": [],
   "source": [
    "platform = {\n",
    "    'platformType': \"vSphere\",\n",
    "    'version': \"vSphere 6.7\",\n",
    "    'versionId': 1\n",
    "}\n",
    "\n",
    "server = {\n",
    "    'totalCpuCores': 24,\n",
    "    'totalRAM': 100\n",
    "}\n",
    "\n",
    "storage = {\n",
    "    'totalClusterStorageTB': 4,\n",
    "    'dataReduction': True,\n",
    "    'encryption': True\n",
    "}\n",
    "\n",
    "requirements = {\n",
    "    'platform': platform,\n",
    "    'server': server,\n",
    "    'storage': storage\n",
    "}\n",
    "\n",
    "select_assets = {\n",
    "    'id': \"\",\n",
    "    'name': \"\",\n",
    "    'requirements': requirements\n",
    "}"
   ]
  },
  {
   "cell_type": "code",
   "execution_count": null,
   "id": "early-pasta",
   "metadata": {},
   "outputs": [],
   "source": [
    "print(json.dumps(select_assets, indent=4, sort_keys=False))"
   ]
  },
  {
   "cell_type": "code",
   "execution_count": null,
   "id": "structural-intake",
   "metadata": {},
   "outputs": [],
   "source": [
    "login()\n",
    "try:\n",
    "    results = post(\"logical/clusters/select-assets\", json.dumps(select_assets))\n",
    "except InterfaceError as err:\n",
    "    print(err)"
   ]
  },
  {
   "cell_type": "code",
   "execution_count": null,
   "id": "environmental-underwear",
   "metadata": {},
   "outputs": [],
   "source": [
    "print(json.dumps(results, indent=4, sort_keys=False))"
   ]
  },
  {
   "cell_type": "code",
   "execution_count": null,
   "id": "integrated-bumper",
   "metadata": {},
   "outputs": [],
   "source": []
  }
 ],
 "metadata": {
  "kernelspec": {
   "display_name": "Python 3",
   "language": "python",
   "name": "python3"
  },
  "language_info": {
   "codemirror_mode": {
    "name": "ipython",
    "version": 3
   },
   "file_extension": ".py",
   "mimetype": "text/x-python",
   "name": "python",
   "nbconvert_exporter": "python",
   "pygments_lexer": "ipython3",
   "version": "3.8.5"
  }
 },
 "nbformat": 4,
 "nbformat_minor": 5
}
